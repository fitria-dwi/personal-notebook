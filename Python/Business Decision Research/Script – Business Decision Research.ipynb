{
 "cells": [
  {
   "cell_type": "markdown",
   "id": "7c73b486",
   "metadata": {},
   "source": [
    "**Author: Fitria Dwi Wulandari (wulan391@sci.ui.ac.id) - December 22, 2020.**"
   ]
  },
  {
   "cell_type": "markdown",
   "id": "8b968935",
   "metadata": {},
   "source": [
    "# Business Decision Research"
   ]
  },
  {
   "cell_type": "markdown",
   "id": "e0e0674a",
   "metadata": {},
   "source": [
    "**Goal:** Processing the store's transaction data from 2013 to 2019."
   ]
  },
  {
   "cell_type": "markdown",
   "id": "0fdcd827",
   "metadata": {},
   "source": [
    "### Data Loading"
   ]
  },
  {
   "cell_type": "code",
   "execution_count": 2,
   "id": "281bd5a8",
   "metadata": {},
   "outputs": [],
   "source": [
    "# Import library\n",
    "import pandas as pd"
   ]
  },
  {
   "cell_type": "code",
   "execution_count": 4,
   "id": "f42c5a48",
   "metadata": {},
   "outputs": [
    {
     "name": "stdout",
     "output_type": "stream",
     "text": [
      "Dataset size: 100000 columns dan 8 rows.\n",
      "\n"
     ]
    },
    {
     "data": {
      "text/html": [
       "<div>\n",
       "<style scoped>\n",
       "    .dataframe tbody tr th:only-of-type {\n",
       "        vertical-align: middle;\n",
       "    }\n",
       "\n",
       "    .dataframe tbody tr th {\n",
       "        vertical-align: top;\n",
       "    }\n",
       "\n",
       "    .dataframe thead th {\n",
       "        text-align: right;\n",
       "    }\n",
       "</style>\n",
       "<table border=\"1\" class=\"dataframe\">\n",
       "  <thead>\n",
       "    <tr style=\"text-align: right;\">\n",
       "      <th></th>\n",
       "      <th>no</th>\n",
       "      <th>Row_Num</th>\n",
       "      <th>Customer_ID</th>\n",
       "      <th>Product</th>\n",
       "      <th>First_Transaction</th>\n",
       "      <th>Last_Transaction</th>\n",
       "      <th>Average_Transaction_Amount</th>\n",
       "      <th>Count_Transaction</th>\n",
       "    </tr>\n",
       "  </thead>\n",
       "  <tbody>\n",
       "    <tr>\n",
       "      <th>0</th>\n",
       "      <td>1</td>\n",
       "      <td>1</td>\n",
       "      <td>29531</td>\n",
       "      <td>Jaket</td>\n",
       "      <td>1466304274396</td>\n",
       "      <td>1538718482608</td>\n",
       "      <td>1467681</td>\n",
       "      <td>22</td>\n",
       "    </tr>\n",
       "    <tr>\n",
       "      <th>1</th>\n",
       "      <td>2</td>\n",
       "      <td>2</td>\n",
       "      <td>29531</td>\n",
       "      <td>Sepatu</td>\n",
       "      <td>1406077331494</td>\n",
       "      <td>1545735761270</td>\n",
       "      <td>1269337</td>\n",
       "      <td>41</td>\n",
       "    </tr>\n",
       "    <tr>\n",
       "      <th>2</th>\n",
       "      <td>3</td>\n",
       "      <td>3</td>\n",
       "      <td>141526</td>\n",
       "      <td>Tas</td>\n",
       "      <td>1493349147000</td>\n",
       "      <td>1548322802000</td>\n",
       "      <td>310915</td>\n",
       "      <td>30</td>\n",
       "    </tr>\n",
       "    <tr>\n",
       "      <th>3</th>\n",
       "      <td>4</td>\n",
       "      <td>4</td>\n",
       "      <td>141526</td>\n",
       "      <td>Jaket</td>\n",
       "      <td>1493362372547</td>\n",
       "      <td>1547643603911</td>\n",
       "      <td>722632</td>\n",
       "      <td>27</td>\n",
       "    </tr>\n",
       "    <tr>\n",
       "      <th>4</th>\n",
       "      <td>5</td>\n",
       "      <td>5</td>\n",
       "      <td>37545</td>\n",
       "      <td>Sepatu</td>\n",
       "      <td>1429178498531</td>\n",
       "      <td>1542891221530</td>\n",
       "      <td>1775036</td>\n",
       "      <td>25</td>\n",
       "    </tr>\n",
       "  </tbody>\n",
       "</table>\n",
       "</div>"
      ],
      "text/plain": [
       "   no  Row_Num  Customer_ID Product  First_Transaction  Last_Transaction  \\\n",
       "0   1        1        29531   Jaket      1466304274396     1538718482608   \n",
       "1   2        2        29531  Sepatu      1406077331494     1545735761270   \n",
       "2   3        3       141526     Tas      1493349147000     1548322802000   \n",
       "3   4        4       141526   Jaket      1493362372547     1547643603911   \n",
       "4   5        5        37545  Sepatu      1429178498531     1542891221530   \n",
       "\n",
       "   Average_Transaction_Amount  Count_Transaction  \n",
       "0                     1467681                 22  \n",
       "1                     1269337                 41  \n",
       "2                      310915                 30  \n",
       "3                      722632                 27  \n",
       "4                     1775036                 25  "
      ]
     },
     "execution_count": 4,
     "metadata": {},
     "output_type": "execute_result"
    }
   ],
   "source": [
    "# Import dataset\n",
    "retail_data = pd.read_csv(\"data_retail.csv\", sep=';')\n",
    "print(\"Dataset size: %d columns dan %d rows.\\n\" % retail_data.shape)\n",
    "retail_data.head()"
   ]
  },
  {
   "cell_type": "markdown",
   "id": "569101dc",
   "metadata": {},
   "source": [
    "### Data Cleansing"
   ]
  },
  {
   "cell_type": "markdown",
   "id": "1443db50",
   "metadata": {},
   "source": [
    "#### Variables and Data Types"
   ]
  },
  {
   "cell_type": "code",
   "execution_count": 5,
   "id": "a88afd01",
   "metadata": {},
   "outputs": [
    {
     "name": "stdout",
     "output_type": "stream",
     "text": [
      "<class 'pandas.core.frame.DataFrame'>\n",
      "RangeIndex: 100000 entries, 0 to 99999\n",
      "Data columns (total 8 columns):\n",
      " #   Column                      Non-Null Count   Dtype \n",
      "---  ------                      --------------   ----- \n",
      " 0   no                          100000 non-null  int64 \n",
      " 1   Row_Num                     100000 non-null  int64 \n",
      " 2   Customer_ID                 100000 non-null  int64 \n",
      " 3   Product                     100000 non-null  object\n",
      " 4   First_Transaction           100000 non-null  int64 \n",
      " 5   Last_Transaction            100000 non-null  int64 \n",
      " 6   Average_Transaction_Amount  100000 non-null  int64 \n",
      " 7   Count_Transaction           100000 non-null  int64 \n",
      "dtypes: int64(7), object(1)\n",
      "memory usage: 6.1+ MB\n"
     ]
    }
   ],
   "source": [
    "retail_data.info()"
   ]
  },
  {
   "cell_type": "markdown",
   "id": "8b079966",
   "metadata": {},
   "source": [
    "The two variables that indicate the transactions (`First_Transaction` and `Last_Transaction`) aren't datetime type, therefore both variables will be corrected."
   ]
  },
  {
   "cell_type": "code",
   "execution_count": 6,
   "id": "f334fa06",
   "metadata": {},
   "outputs": [],
   "source": [
    "# First_Transaction column\n",
    "retail_data['First_Transaction'] = pd.to_datetime(retail_data['First_Transaction']/1000, unit='s', origin='1970-01-01')\n",
    "# Last_Transaction column\n",
    "retail_data['Last_Transaction'] = pd.to_datetime(retail_data['Last_Transaction']/1000, unit='s', origin='1970-01-01')"
   ]
  },
  {
   "cell_type": "code",
   "execution_count": 8,
   "id": "74d68531",
   "metadata": {},
   "outputs": [
    {
     "name": "stdout",
     "output_type": "stream",
     "text": [
      "<class 'pandas.core.frame.DataFrame'>\n",
      "RangeIndex: 100000 entries, 0 to 99999\n",
      "Data columns (total 8 columns):\n",
      " #   Column                      Non-Null Count   Dtype         \n",
      "---  ------                      --------------   -----         \n",
      " 0   no                          100000 non-null  int64         \n",
      " 1   Row_Num                     100000 non-null  int64         \n",
      " 2   Customer_ID                 100000 non-null  int64         \n",
      " 3   Product                     100000 non-null  object        \n",
      " 4   First_Transaction           100000 non-null  datetime64[ns]\n",
      " 5   Last_Transaction            100000 non-null  datetime64[ns]\n",
      " 6   Average_Transaction_Amount  100000 non-null  int64         \n",
      " 7   Count_Transaction           100000 non-null  int64         \n",
      "dtypes: datetime64[ns](2), int64(5), object(1)\n",
      "memory usage: 6.1+ MB\n"
     ]
    }
   ],
   "source": [
    "retail_data.info()"
   ]
  },
  {
   "cell_type": "markdown",
   "id": "c946e56b",
   "metadata": {},
   "source": [
    "#### Removing a Variable(s)"
   ]
  },
  {
   "cell_type": "code",
   "execution_count": 9,
   "id": "b403dd31",
   "metadata": {},
   "outputs": [
    {
     "data": {
      "text/plain": [
       "Index(['no', 'Row_Num', 'Customer_ID', 'Product', 'First_Transaction',\n",
       "       'Last_Transaction', 'Average_Transaction_Amount', 'Count_Transaction'],\n",
       "      dtype='object')"
      ]
     },
     "execution_count": 9,
     "metadata": {},
     "output_type": "execute_result"
    }
   ],
   "source": [
    "retail_data.columns"
   ]
  },
  {
   "cell_type": "code",
   "execution_count": 10,
   "id": "4f8b8fb7",
   "metadata": {},
   "outputs": [],
   "source": [
    "# Drop unnecessary columns\n",
    "retail_data.drop(\"no\", axis=1, inplace=True)\n",
    "retail_data.drop(\"Row_Num\", axis=1, inplace=True)"
   ]
  },
  {
   "cell_type": "code",
   "execution_count": 11,
   "id": "19424ad2",
   "metadata": {},
   "outputs": [
    {
     "data": {
      "text/html": [
       "<div>\n",
       "<style scoped>\n",
       "    .dataframe tbody tr th:only-of-type {\n",
       "        vertical-align: middle;\n",
       "    }\n",
       "\n",
       "    .dataframe tbody tr th {\n",
       "        vertical-align: top;\n",
       "    }\n",
       "\n",
       "    .dataframe thead th {\n",
       "        text-align: right;\n",
       "    }\n",
       "</style>\n",
       "<table border=\"1\" class=\"dataframe\">\n",
       "  <thead>\n",
       "    <tr style=\"text-align: right;\">\n",
       "      <th></th>\n",
       "      <th>Customer_ID</th>\n",
       "      <th>Product</th>\n",
       "      <th>First_Transaction</th>\n",
       "      <th>Last_Transaction</th>\n",
       "      <th>Average_Transaction_Amount</th>\n",
       "      <th>Count_Transaction</th>\n",
       "    </tr>\n",
       "  </thead>\n",
       "  <tbody>\n",
       "    <tr>\n",
       "      <th>0</th>\n",
       "      <td>29531</td>\n",
       "      <td>Jaket</td>\n",
       "      <td>2016-06-19 02:44:34.396000000</td>\n",
       "      <td>2018-10-05 05:48:02.608000000</td>\n",
       "      <td>1467681</td>\n",
       "      <td>22</td>\n",
       "    </tr>\n",
       "    <tr>\n",
       "      <th>1</th>\n",
       "      <td>29531</td>\n",
       "      <td>Sepatu</td>\n",
       "      <td>2014-07-23 01:02:11.493999872</td>\n",
       "      <td>2018-12-25 11:02:41.269999872</td>\n",
       "      <td>1269337</td>\n",
       "      <td>41</td>\n",
       "    </tr>\n",
       "    <tr>\n",
       "      <th>2</th>\n",
       "      <td>141526</td>\n",
       "      <td>Tas</td>\n",
       "      <td>2017-04-28 03:12:27.000000000</td>\n",
       "      <td>2019-01-24 09:40:02.000000000</td>\n",
       "      <td>310915</td>\n",
       "      <td>30</td>\n",
       "    </tr>\n",
       "    <tr>\n",
       "      <th>3</th>\n",
       "      <td>141526</td>\n",
       "      <td>Jaket</td>\n",
       "      <td>2017-04-28 06:52:52.546999808</td>\n",
       "      <td>2019-01-16 13:00:03.911000064</td>\n",
       "      <td>722632</td>\n",
       "      <td>27</td>\n",
       "    </tr>\n",
       "    <tr>\n",
       "      <th>4</th>\n",
       "      <td>37545</td>\n",
       "      <td>Sepatu</td>\n",
       "      <td>2015-04-16 10:01:38.530999808</td>\n",
       "      <td>2018-11-22 12:53:41.529999872</td>\n",
       "      <td>1775036</td>\n",
       "      <td>25</td>\n",
       "    </tr>\n",
       "  </tbody>\n",
       "</table>\n",
       "</div>"
      ],
      "text/plain": [
       "   Customer_ID Product             First_Transaction  \\\n",
       "0        29531   Jaket 2016-06-19 02:44:34.396000000   \n",
       "1        29531  Sepatu 2014-07-23 01:02:11.493999872   \n",
       "2       141526     Tas 2017-04-28 03:12:27.000000000   \n",
       "3       141526   Jaket 2017-04-28 06:52:52.546999808   \n",
       "4        37545  Sepatu 2015-04-16 10:01:38.530999808   \n",
       "\n",
       "               Last_Transaction  Average_Transaction_Amount  Count_Transaction  \n",
       "0 2018-10-05 05:48:02.608000000                     1467681                 22  \n",
       "1 2018-12-25 11:02:41.269999872                     1269337                 41  \n",
       "2 2019-01-24 09:40:02.000000000                      310915                 30  \n",
       "3 2019-01-16 13:00:03.911000064                      722632                 27  \n",
       "4 2018-11-22 12:53:41.529999872                     1775036                 25  "
      ]
     },
     "execution_count": 11,
     "metadata": {},
     "output_type": "execute_result"
    }
   ],
   "source": [
    "retail_data.head()"
   ]
  },
  {
   "cell_type": "markdown",
   "id": "3c6e97fb",
   "metadata": {},
   "source": [
    "#### Handling Duplicate Data"
   ]
  },
  {
   "cell_type": "code",
   "execution_count": 15,
   "id": "bf49ac0c",
   "metadata": {},
   "outputs": [
    {
     "name": "stdout",
     "output_type": "stream",
     "text": [
      "Dataset size: 99931 columns dan 6 rows.\n",
      "\n",
      "The number of duplicate data is 0\n"
     ]
    }
   ],
   "source": [
    "print(\"Dataset size: %d columns dan %d rows.\\n\" % retail_data.shape)\n",
    "print('The number of duplicate data is', retail_data.duplicated().sum())"
   ]
  },
  {
   "cell_type": "code",
   "execution_count": 13,
   "id": "8e528960",
   "metadata": {},
   "outputs": [
    {
     "name": "stdout",
     "output_type": "stream",
     "text": [
      "Dataset size: 99931 columns dan 6 rows.\n",
      "\n"
     ]
    }
   ],
   "source": [
    "# Delete entries that have duplicate data\n",
    "retail_data.drop_duplicates(inplace=True)\n",
    "print(\"Dataset size: %d columns dan %d rows.\\n\" % retail_data.shape)"
   ]
  },
  {
   "cell_type": "markdown",
   "id": "b5a17efa",
   "metadata": {},
   "source": [
    "#### Handling Missing Value"
   ]
  },
  {
   "cell_type": "code",
   "execution_count": 18,
   "id": "9f6337da",
   "metadata": {},
   "outputs": [
    {
     "name": "stdout",
     "output_type": "stream",
     "text": [
      "Missing values status: False\n",
      "\n",
      "The number of missing values for each columns:\n",
      "Customer_ID                   0\n",
      "Product                       0\n",
      "First_Transaction             0\n",
      "Last_Transaction              0\n",
      "Average_Transaction_Amount    0\n",
      "Count_Transaction             0\n",
      "dtype: int64\n"
     ]
    }
   ],
   "source": [
    "print('Missing values status:',retail_data.isnull().values.any())\n",
    "print('\\nThe number of missing values for each columns:')\n",
    "print(retail_data.isnull().sum().sort_values(ascending=False))"
   ]
  },
  {
   "cell_type": "markdown",
   "id": "71f533b1",
   "metadata": {},
   "source": [
    "### Defines Churn Custumers"
   ]
  },
  {
   "cell_type": "markdown",
   "id": "b3b6e91c",
   "metadata": {},
   "source": [
    "A customer is no longer referred to as a customer (churn) when no longer transacting to the shop until the last 6 months from the last available data update."
   ]
  },
  {
   "cell_type": "code",
   "execution_count": 19,
   "id": "b3679642",
   "metadata": {},
   "outputs": [
    {
     "name": "stdout",
     "output_type": "stream",
     "text": [
      "Last Transaction\n",
      "2019-02-01 23:57:57.286000128\n"
     ]
    }
   ],
   "source": [
    "# Check the last transaction in the dataset\n",
    "print('Last Transaction')\n",
    "print(max(retail_data['Last_Transaction']))"
   ]
  },
  {
   "cell_type": "code",
   "execution_count": 20,
   "id": "a440f73c",
   "metadata": {},
   "outputs": [],
   "source": [
    "# Classify customers who are churn or not churn\n",
    "retail_data.loc[retail_data['Last_Transaction']<='2018-08-01', 'is_churn'] = True\n",
    "retail_data.loc[retail_data['Last_Transaction']>'2018-08-01', 'is_churn'] = False"
   ]
  },
  {
   "cell_type": "markdown",
   "id": "32de8f16",
   "metadata": {},
   "source": [
    "### Data Visualization"
   ]
  },
  {
   "cell_type": "code",
   "execution_count": 21,
   "id": "91bdf413",
   "metadata": {},
   "outputs": [],
   "source": [
    "# Import libraries\n",
    "import matplotlib.pyplot as plt\n",
    "import seaborn as sns"
   ]
  },
  {
   "cell_type": "code",
   "execution_count": 22,
   "id": "21d97282",
   "metadata": {},
   "outputs": [],
   "source": [
    "# Create a New Column that Contains The Year of The Datetime of First_Transaction and Last_Transaction\n",
    "\n",
    "# Year column of first transaction\n",
    "retail_data['Year_First_Transaction'] = retail_data['First_Transaction'].dt.year\n",
    "# Year column of last transaction\n",
    "retail_data['Year_Last_Transaction'] = retail_data['Last_Transaction'].dt.year"
   ]
  },
  {
   "cell_type": "markdown",
   "id": "4fdc33e6",
   "metadata": {},
   "source": [
    "#### Customer Acquisition by Year"
   ]
  },
  {
   "cell_type": "code",
   "execution_count": 23,
   "id": "d540bcf6",
   "metadata": {},
   "outputs": [
    {
     "data": {
      "image/png": "[encoded data removed]",
      "text/plain": [
       "<Figure size 432x288 with 1 Axes>"
      ]
     },
     "metadata": {
      "needs_background": "light"
     },
     "output_type": "display_data"
    }
   ],
   "source": [
    "retail_data_year = retail_data.groupby(['Year_First_Transaction'])['Customer_ID'].count()\n",
    "retail_data_year.plot(x='Year_First_Transaction', y='Customer_ID', kind= 'bar', title='Graph of Customer Acquisition', cmap='RdGy')\n",
    "plt.xlabel('Year_First_Transaction')\n",
    "plt.ylabel('Num_of_Customer')\n",
    "plt.xticks(rotation=45)\n",
    "plt.tight_layout()\n",
    "plt.show()"
   ]
  },
  {
   "cell_type": "markdown",
   "id": "4718a8ed",
   "metadata": {},
   "source": [
    "#### Transaction by Year"
   ]
  },
  {
   "cell_type": "code",
   "execution_count": 24,
   "id": "586e7f02",
   "metadata": {},
   "outputs": [
    {
     "data": {
      "image/png": "[encoded data removed]",
      "text/plain": [
       "<Figure size 432x288 with 1 Axes>"
      ]
     },
     "metadata": {
      "needs_background": "light"
     },
     "output_type": "display_data"
    }
   ],
   "source": [
    "plt.clf()\n",
    "retail_data_year = retail_data.groupby(['Year_First_Transaction'])['Count_Transaction'].sum()\n",
    "retail_data_year.plot(x='Year_First_Transaction', y='Count_Transaction', kind='bar', title='Graph of Transaction Customer', cmap='RdGy')\n",
    "plt.xlabel('Year_First_Transaction')\n",
    "plt.ylabel('Num_of_Transaction')\n",
    "plt.xticks(rotation=45)\n",
    "plt.tight_layout()\n",
    "plt.show()"
   ]
  },
  {
   "cell_type": "markdown",
   "id": "6a3b4959",
   "metadata": {},
   "source": [
    "#### Average Transaction Amount by Year"
   ]
  },
  {
   "cell_type": "code",
   "execution_count": 25,
   "id": "c5398dfa",
   "metadata": {},
   "outputs": [
    {
     "data": {
      "image/png": "[encoded data removed]",
      "text/plain": [
       "<Figure size 432x288 with 1 Axes>"
      ]
     },
     "metadata": {
      "needs_background": "light"
     },
     "output_type": "display_data"
    }
   ],
   "source": [
    "plt.clf()\n",
    "sns.pointplot(data = retail_data.groupby(['Product', 'Year_First_Transaction']).mean().reset_index(), \n",
    "              x='Year_First_Transaction', \n",
    "              y='Average_Transaction_Amount', \n",
    "              hue='Product')\n",
    "plt.tight_layout()\n",
    "plt.show()"
   ]
  },
  {
   "cell_type": "markdown",
   "id": "029fd081",
   "metadata": {},
   "source": [
    "#### The Proportion of Churn Customers for Each Product"
   ]
  },
  {
   "cell_type": "code",
   "execution_count": 26,
   "id": "1651924e",
   "metadata": {},
   "outputs": [
    {
     "data": {
      "text/plain": [
       "<Figure size 432x288 with 0 Axes>"
      ]
     },
     "metadata": {},
     "output_type": "display_data"
    },
    {
     "data": {
      "image/png": "[encoded data removed]",
      "text/plain": [
       "<Figure size 720x504 with 4 Axes>"
      ]
     },
     "metadata": {},
     "output_type": "display_data"
    }
   ],
   "source": [
    "plt.clf()\n",
    "\n",
    "# pivot data\n",
    "retail_data_piv = retail_data.pivot_table(index='is_churn', \n",
    "                        columns='Product',\n",
    "                        values='Customer_ID', \n",
    "                        aggfunc='count', \n",
    "                        fill_value=0)\n",
    "\n",
    "# proportion churn by product\n",
    "plot_product = retail_data_piv.count().sort_values(ascending=False).head(5).index\n",
    "\n",
    "# pie chart\n",
    "retail_data_piv = retail_data_piv.reindex(columns=plot_product)\n",
    "retail_data_piv.plot.pie(subplots=True,\n",
    "                figsize=(10, 7),\n",
    "                layout=(-1, 2),\n",
    "                autopct='%1.0f%%',\n",
    "                title='Proportion Churn by Product')\n",
    "plt.tight_layout()\n",
    "plt.show()"
   ]
  },
  {
   "cell_type": "markdown",
   "id": "7ab2d0d9",
   "metadata": {},
   "source": [
    "#### Customer Distribution by Count Transaction Group"
   ]
  },
  {
   "cell_type": "markdown",
   "id": "ba075a1b",
   "metadata": {},
   "source": [
    "This categorization is done by grouping the number of transactions, as shown by the following table:\n",
    "\n",
    "| Transaction Amount Range | Category | \n",
    "| :---: | :---: | \n",
    "| 0 - 1 | 1 | \n",
    "| 2 - 3 | 2 | \t\n",
    "| 4 - 6 | 3 | \n",
    "| 7 - 10 | 4 |\n",
    "| > 10 | 5|"
   ]
  },
  {
   "cell_type": "code",
   "execution_count": 27,
   "id": "df5bc6e9",
   "metadata": {},
   "outputs": [
    {
     "data": {
      "text/plain": [
       "<Figure size 432x288 with 0 Axes>"
      ]
     },
     "metadata": {},
     "output_type": "display_data"
    }
   ],
   "source": [
    "plt.clf()\n",
    "\n",
    "# Count transaction group\n",
    "def func(row):\n",
    "    if row['Count_Transaction'] == 1:\n",
    "        val = '1'\n",
    "    elif (row['Count_Transaction'] > 1 and row['Count_Transaction'] <= 3):\n",
    "        val ='2'\n",
    "    elif (row['Count_Transaction'] > 3 and row['Count_Transaction'] <= 6):\n",
    "        val ='3'\n",
    "    elif (row['Count_Transaction'] > 6 and row['Count_Transaction'] <= 10):\n",
    "        val ='4'\n",
    "    else:\n",
    "        val ='5'\n",
    "    return val"
   ]
  },
  {
   "cell_type": "code",
   "execution_count": 28,
   "id": "ac023e72",
   "metadata": {},
   "outputs": [
    {
     "data": {
      "image/png": "[encoded data removed]",
      "text/plain": [
       "<Figure size 432x288 with 1 Axes>"
      ]
     },
     "metadata": {
      "needs_background": "light"
     },
     "output_type": "display_data"
    }
   ],
   "source": [
    "retail_data['Count_Transaction_Group'] = retail_data.apply(func, axis=1)\n",
    "retail_data_year = retail_data.groupby(['Count_Transaction_Group'])['Customer_ID'].count()\n",
    "retail_data_year. plot(x='Count_Transaction_Group', y='Customer_ID', kind='bar', title='Customer Distribution by Count Transaction Group', cmap='RdGy')\n",
    "plt.xlabel('Count_Transaction_Group')\n",
    "plt.ylabel('Num_of_Customer')\n",
    "plt.xticks(rotation=45)\n",
    "plt.tight_layout()\n",
    "plt.show()"
   ]
  },
  {
   "cell_type": "markdown",
   "id": "8be4bd9d",
   "metadata": {},
   "source": [
    "#### Customer Distribution by Average Transaction Amount Group"
   ]
  },
  {
   "cell_type": "markdown",
   "id": "e7daf675",
   "metadata": {},
   "source": [
    "This categorization is done by grouping the average transaction amount, as shown by the following table:\n",
    "\n",
    "| Average Transaction Amount Range | Category | \n",
    "| :---: | :---: | \n",
    "| 100000 - 200000 | 1 | \n",
    "| > 200000 - 500000 | 2 | \t\n",
    "| > 500000 - 750000 | 3 | \n",
    "| > 750000 - 1000000 | 4 |\n",
    "| > 1000000 - 2500000 | 5|\n",
    "| > 2500000 - 5000000 | 6|\n",
    "| > 5000000 - 10000000 | 7|\n",
    "| > 10000000 | 8|"
   ]
  },
  {
   "cell_type": "code",
   "execution_count": 29,
   "id": "d658e117",
   "metadata": {},
   "outputs": [
    {
     "data": {
      "text/plain": [
       "<Figure size 432x288 with 0 Axes>"
      ]
     },
     "metadata": {},
     "output_type": "display_data"
    }
   ],
   "source": [
    "plt.clf()\n",
    "\n",
    "# average transaction amount group\n",
    "def f(row):\n",
    " if (row['Average_Transaction_Amount'] >= 100000 and row['Average_Transaction_Amount'] <=200000):\n",
    "  val ='1'\n",
    " elif (row['Average_Transaction_Amount'] >200000 and row['Average_Transaction_Amount'] <= 500000):\n",
    "  val ='2'\n",
    " elif (row['Average_Transaction_Amount'] >500000 and row['Average_Transaction_Amount'] <= 750000):\n",
    "  val ='3'\n",
    " elif (row['Average_Transaction_Amount'] >750000 and row['Average_Transaction_Amount'] <= 1000000):\n",
    "  val ='4'\n",
    " elif (row['Average_Transaction_Amount'] >1000000 and row['Average_Transaction_Amount'] <= 2500000):\n",
    "  val ='5'\n",
    " elif (row['Average_Transaction_Amount'] >2500000 and row['Average_Transaction_Amount'] <= 5000000):\n",
    "  val ='6'\n",
    " elif (row['Average_Transaction_Amount'] >5000000 and row['Average_Transaction_Amount'] <= 10000000):\n",
    "  val ='7'\n",
    " else:\n",
    "  val ='8'\n",
    " return val"
   ]
  },
  {
   "cell_type": "code",
   "execution_count": 30,
   "id": "28c7b9f7",
   "metadata": {},
   "outputs": [
    {
     "data": {
      "image/png": "[encoded data removed]",
      "text/plain": [
       "<Figure size 432x288 with 1 Axes>"
      ]
     },
     "metadata": {
      "needs_background": "light"
     },
     "output_type": "display_data"
    }
   ],
   "source": [
    "retail_data['Average_Transaction_Amount_Group'] = retail_data.apply(f, axis=1)\n",
    "retail_data_year = retail_data.groupby(['Average_Transaction_Amount_Group'])['Customer_ID'].count()\n",
    "retail_data_year.plot(x='Average_Transaction_Amount_Group', y='Customer_ID',kind='bar', title='Customer Distribution by Average Transaction Amount Group', cmap='RdGy')\n",
    "plt.xlabel('Average_Transaction_Amount_Group')\n",
    "plt.ylabel('Num_of_Customer')\n",
    "plt.xticks(rotation=45)\n",
    "plt.tight_layout()\n",
    "plt.show()"
   ]
  },
  {
   "cell_type": "markdown",
   "id": "0b637f16",
   "metadata": {},
   "source": [
    "### Building a Model"
   ]
  },
  {
   "cell_type": "code",
   "execution_count": 31,
   "id": "31c83f90",
   "metadata": {},
   "outputs": [],
   "source": [
    "# Import libraries\n",
    "import sklearn\n",
    "import numpy as np\n",
    "import matplotlib.pyplot as plt\n",
    "import seaborn as sns"
   ]
  },
  {
   "cell_type": "code",
   "execution_count": 32,
   "id": "7dfeb693",
   "metadata": {},
   "outputs": [],
   "source": [
    "# Create a feature column: Year_Diff\n",
    "retail_data['Year_Diff'] = retail_data['Year_Last_Transaction'] - retail_data['Year_First_Transaction']\n",
    "\n",
    "# Defines feature columns\n",
    "feature_columns = ['Average_Transaction_Amount', 'Count_Transaction', 'Year_Diff']\n",
    "\n",
    "# Features variable\n",
    "X = retail_data[feature_columns]\n",
    "\n",
    "# Target variable\n",
    "y = retail_data['is_churn']\n",
    "y = y.astype('int')"
   ]
  },
  {
   "cell_type": "markdown",
   "id": "c01af77a",
   "metadata": {},
   "source": [
    "#### Data Splitting"
   ]
  },
  {
   "cell_type": "code",
   "execution_count": 33,
   "id": "fe7a6858",
   "metadata": {},
   "outputs": [],
   "source": [
    "from sklearn.model_selection import train_test_split"
   ]
  },
  {
   "cell_type": "code",
   "execution_count": 34,
   "id": "a9bafd6f",
   "metadata": {},
   "outputs": [],
   "source": [
    "X_train, X_test, y_train, y_test = train_test_split(X, y, test_size=0.25, random_state=0)"
   ]
  },
  {
   "cell_type": "markdown",
   "id": "0b4c5adf",
   "metadata": {},
   "source": [
    "#### Modelling"
   ]
  },
  {
   "cell_type": "code",
   "execution_count": 35,
   "id": "8ab3dedb",
   "metadata": {},
   "outputs": [],
   "source": [
    "from sklearn.linear_model import LogisticRegression\n",
    "from sklearn.metrics import confusion_matrix"
   ]
  },
  {
   "cell_type": "code",
   "execution_count": 37,
   "id": "865d10d2",
   "metadata": {},
   "outputs": [],
   "source": [
    "# Initiate the logreg model\n",
    "logreg = LogisticRegression()"
   ]
  },
  {
   "cell_type": "code",
   "execution_count": 38,
   "id": "172e62e0",
   "metadata": {},
   "outputs": [],
   "source": [
    "# Fit the model with data\n",
    "logreg.fit(X_train, y_train)\n",
    "\n",
    "# Predict model\n",
    "y_pred = logreg.predict(X_test)"
   ]
  },
  {
   "cell_type": "code",
   "execution_count": 39,
   "id": "0dabcf05",
   "metadata": {},
   "outputs": [
    {
     "name": "stdout",
     "output_type": "stream",
     "text": [
      "Confusion Matrix:\n",
      " [[    1  8265]\n",
      " [    2 16715]]\n"
     ]
    }
   ],
   "source": [
    "# Model evaluation\n",
    "cnf_matrix = confusion_matrix(y_test, y_pred)\n",
    "print('Confusion Matrix:\\n', cnf_matrix)"
   ]
  },
  {
   "cell_type": "markdown",
   "id": "05145520",
   "metadata": {},
   "source": [
    "#### Confusion Matrix Visualization"
   ]
  },
  {
   "cell_type": "code",
   "execution_count": 49,
   "id": "fca360a4",
   "metadata": {},
   "outputs": [
    {
     "data": {
      "text/plain": [
       "<Figure size 432x288 with 0 Axes>"
      ]
     },
     "metadata": {},
     "output_type": "display_data"
    },
    {
     "data": {
      "image/png": "[encoded data removed]",
      "text/plain": [
       "<Figure size 432x288 with 2 Axes>"
      ]
     },
     "metadata": {
      "needs_background": "light"
     },
     "output_type": "display_data"
    }
   ],
   "source": [
    "plt.clf()\n",
    "\n",
    "# Name of classes\n",
    "class_names = [0, 1] \n",
    "fig, ax = plt.subplots()\n",
    "tick_marks = np.arange(len(class_names))\n",
    "plt.xticks(tick_marks, class_names)\n",
    "plt.yticks(tick_marks, class_names)\n",
    "\n",
    "# Create heatmap\n",
    "sns.heatmap(pd.DataFrame(cnf_matrix), annot=True, cmap='rocket_r', fmt='g')\n",
    "ax.xaxis.set_label_position('top')\n",
    "plt.title('Confusion matrix', y=1.1)\n",
    "plt.ylabel('Actual')\n",
    "plt.xlabel('Predicted')\n",
    "plt.tight_layout()\n",
    "plt.show()"
   ]
  },
  {
   "cell_type": "markdown",
   "id": "d3d9cfce",
   "metadata": {},
   "source": [
    "There is 16715 true positive, 1 true negative, 8265 false positive, and 2 false negative.\n",
    "\n",
    "**Note:**\n",
    "- True positive is when you predicted positive and it’s true.\n",
    "- True negative is when you predicted negative and it’s true.\n",
    "- False positive is when you predicted positive and it’s false.\n",
    "- False negative is when you predicted negative and it’s false."
   ]
  },
  {
   "cell_type": "markdown",
   "id": "8393b921",
   "metadata": {},
   "source": [
    "#### Accuracy, Precision, and Recall"
   ]
  },
  {
   "cell_type": "code",
   "execution_count": 51,
   "id": "6226fb20",
   "metadata": {},
   "outputs": [
    {
     "name": "stdout",
     "output_type": "stream",
     "text": [
      "Accuracy : 0.6690949845895209\n",
      "Precision: 0.6690949845895209\n",
      "Recall   : 0.6690949845895209\n"
     ]
    }
   ],
   "source": [
    "from sklearn.metrics import accuracy_score,precision_score,recall_score\n",
    "\n",
    "# Calculating accuracy, precision, and recall\n",
    "print('Accuracy :', accuracy_score(y_test, y_pred))\n",
    "print('Precision:', precision_score(y_test, y_pred, average='micro'))\n",
    "print('Recall   :', recall_score(y_test, y_pred, average='micro'))"
   ]
  },
  {
   "cell_type": "markdown",
   "id": "e6ac4102",
   "metadata": {},
   "source": [
    "**Note:**\n",
    "- Recall : out of all the positive classes, how much we predicted correctly. It should be high as possible.\n",
    "- Precision : out of all the positive classes we have predicted correctly, how many are actually positive.\n",
    "- Accuracy : out of all the classes, how much we predicted correctly. It should be high as possible."
   ]
  }
 ],
 "metadata": {
  "kernelspec": {
   "display_name": "Python 3",
   "language": "python",
   "name": "python3"
  },
  "language_info": {
   "codemirror_mode": {
    "name": "ipython",
    "version": 3
   },
   "file_extension": ".py",
   "mimetype": "text/x-python",
   "name": "python",
   "nbconvert_exporter": "python",
   "pygments_lexer": "ipython3",
   "version": "3.8.8"
  }
 },
 "nbformat": 4,
 "nbformat_minor": 5
}
