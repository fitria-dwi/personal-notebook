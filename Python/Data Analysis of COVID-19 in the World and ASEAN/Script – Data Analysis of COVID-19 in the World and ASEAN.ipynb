{
 "cells": [
  {
   "cell_type": "markdown",
   "id": "133bc8ec",
   "metadata": {},
   "source": [
    "**Author: Fitria Dwi Wulandari (wulan391@sci.ui.ac.id) - September 9, 2021.**"
   ]
  },
  {
   "cell_type": "markdown",
   "id": "836530a6",
   "metadata": {},
   "source": [
    "# Data Analysis of COVID-19 in the World and ASEAN"
   ]
  },
  {
   "cell_type": "markdown",
   "id": "8f5c12a9",
   "metadata": {},
   "source": [
    "### Data Loading"
   ]
  },
  {
   "cell_type": "code",
   "execution_count": 1,
   "id": "ff1ae3ea",
   "metadata": {},
   "outputs": [],
   "source": [
    "# Import libraries\n",
    "import numpy as np\n",
    "import pandas as pd\n",
    "pd.set_option(\"display.max_columns\", None)"
   ]
  },
  {
   "cell_type": "code",
   "execution_count": 2,
   "id": "502faa9b",
   "metadata": {},
   "outputs": [
    {
     "name": "stdout",
     "output_type": "stream",
     "text": [
      "Dataset size: 61900 columns dan 6 rows.\n",
      "\n",
      "Top 5 data:\n",
      "         date  daily_confirmed_cases  daily_deaths  confirmed_cases  deaths  \\\n",
      "0 2020-03-20                      1             0                1       0   \n",
      "1 2020-03-21                      0             0                1       0   \n",
      "2 2020-03-22                      1             0                2       0   \n",
      "3 2020-03-23                      0             0                2       0   \n",
      "4 2020-03-24                      0             0                2       0   \n",
      "\n",
      "  geo_id  \n",
      "0     TD  \n",
      "1     TD  \n",
      "2     TD  \n",
      "3     TD  \n",
      "4     TD  \n"
     ]
    }
   ],
   "source": [
    "# Import dataset\n",
    "covid19_url = \"https://dqlab.id/data/covid19_worldwide_2020.json\"\n",
    "covid19 = pd.read_json(covid19_url)\n",
    "\n",
    "print(\"Dataset size: %d columns dan %d rows.\\n\" % covid19.shape)\n",
    "print(\"Top 5 data:\\n\",covid19.head(5))"
   ]
  },
  {
   "cell_type": "markdown",
   "id": "6788fe25",
   "metadata": {},
   "source": [
    "### Reformat Data Frame"
   ]
  },
  {
   "cell_type": "code",
   "execution_count": 3,
   "id": "fafa60ff",
   "metadata": {},
   "outputs": [
    {
     "name": "stdout",
     "output_type": "stream",
     "text": [
      "Information of initial data frame :\n",
      "<class 'pandas.core.frame.DataFrame'>\n",
      "Int64Index: 61900 entries, 0 to 61899\n",
      "Data columns (total 6 columns):\n",
      " #   Column                 Non-Null Count  Dtype         \n",
      "---  ------                 --------------  -----         \n",
      " 0   date                   61900 non-null  datetime64[ns]\n",
      " 1   daily_confirmed_cases  61900 non-null  int64         \n",
      " 2   daily_deaths           61900 non-null  int64         \n",
      " 3   confirmed_cases        61900 non-null  int64         \n",
      " 4   deaths                 61900 non-null  int64         \n",
      " 5   geo_id                 61625 non-null  object        \n",
      "dtypes: datetime64[ns](1), int64(4), object(1)\n",
      "memory usage: 3.3+ MB\n"
     ]
    }
   ],
   "source": [
    "print(\"Information of initial data frame :\")\n",
    "covid19.info()"
   ]
  },
  {
   "cell_type": "markdown",
   "id": "50071e64",
   "metadata": {},
   "source": [
    "`date` column already of type numpy.datetime64[ns], then this column can be set as index for **covid19** data frame."
   ]
  },
  {
   "cell_type": "code",
   "execution_count": 4,
   "id": "b4c89846",
   "metadata": {},
   "outputs": [
    {
     "name": "stdout",
     "output_type": "stream",
     "text": [
      "\n",
      "Information of data frame after reformatting:\n",
      "<class 'pandas.core.frame.DataFrame'>\n",
      "DatetimeIndex: 61900 entries, 2019-12-31 to 2020-12-14\n",
      "Data columns (total 5 columns):\n",
      " #   Column                 Non-Null Count  Dtype \n",
      "---  ------                 --------------  ----- \n",
      " 0   daily_confirmed_cases  61900 non-null  int64 \n",
      " 1   daily_deaths           61900 non-null  int64 \n",
      " 2   confirmed_cases        61900 non-null  int64 \n",
      " 3   deaths                 61900 non-null  int64 \n",
      " 4   geo_id                 61625 non-null  object\n",
      "dtypes: int64(4), object(1)\n",
      "memory usage: 2.8+ MB\n"
     ]
    }
   ],
   "source": [
    "covid19 = covid19.set_index(\"date\").sort_index()\n",
    "\n",
    "print(\"\\nInformation of data frame after reformatting:\")\n",
    "covid19.info()"
   ]
  },
  {
   "cell_type": "markdown",
   "id": "2523df8b",
   "metadata": {},
   "source": [
    "### Handling Missing Values"
   ]
  },
  {
   "cell_type": "markdown",
   "id": "68c4e97e",
   "metadata": {},
   "source": [
    "Next, we will eliminate rows from data that are detected have missing values."
   ]
  },
  {
   "cell_type": "code",
   "execution_count": 5,
   "id": "6b7b70c6",
   "metadata": {},
   "outputs": [
    {
     "name": "stdout",
     "output_type": "stream",
     "text": [
      "The number of Missing Values for each columns:\n",
      "daily_confirmed_cases      0\n",
      "daily_deaths               0\n",
      "confirmed_cases            0\n",
      "deaths                     0\n",
      "geo_id                   275\n",
      "dtype: int64\n",
      "\n",
      "The number of Missing Values for each columns after imputation:\n",
      "daily_confirmed_cases    0\n",
      "daily_deaths             0\n",
      "confirmed_cases          0\n",
      "deaths                   0\n",
      "geo_id                   0\n",
      "dtype: int64\n"
     ]
    }
   ],
   "source": [
    "print(\"The number of Missing Values for each columns:\")\n",
    "print(covid19.isna().sum())\n",
    "\n",
    "covid19.dropna(inplace=True)\n",
    "\n",
    "print(\"\\nThe number of Missing Values for each columns after imputation:\")\n",
    "print(covid19.isna().sum())"
   ]
  },
  {
   "cell_type": "markdown",
   "id": "f417580d",
   "metadata": {},
   "source": [
    "### Countries Data Loading"
   ]
  },
  {
   "cell_type": "code",
   "execution_count": 6,
   "id": "08770510",
   "metadata": {},
   "outputs": [
    {
     "name": "stdout",
     "output_type": "stream",
     "text": [
      "  geo_id country_name\n",
      "0     TD         Chad\n",
      "1     CU         Cuba\n",
      "2     FJ         Fiji\n",
      "3     GU         Guam\n",
      "4     IR         Iran\n"
     ]
    }
   ],
   "source": [
    "countries_url = \"https://dqlab.id/data/country_details.json\"\n",
    "countries = pd.read_json(countries_url)\n",
    "print(countries.head())"
   ]
  },
  {
   "cell_type": "markdown",
   "id": "a3146e7b",
   "metadata": {},
   "source": [
    "### Merge Covid19 Data dan Countries Data"
   ]
  },
  {
   "cell_type": "code",
   "execution_count": 7,
   "id": "de3e25e0",
   "metadata": {},
   "outputs": [
    {
     "name": "stdout",
     "output_type": "stream",
     "text": [
      "            daily_confirmed_cases  daily_deaths  confirmed_cases  deaths  \\\n",
      "date                                                                       \n",
      "2019-12-31                      0             0                0       0   \n",
      "2020-01-01                      0             0                0       0   \n",
      "2020-01-02                      0             0                0       0   \n",
      "2020-01-03                      0             0                0       0   \n",
      "2020-01-04                      0             0                0       0   \n",
      "\n",
      "           geo_id country_name  \n",
      "date                            \n",
      "2019-12-31     IN        India  \n",
      "2020-01-01     IN        India  \n",
      "2020-01-02     IN        India  \n",
      "2020-01-03     IN        India  \n",
      "2020-01-04     IN        India  \n"
     ]
    }
   ],
   "source": [
    "covid_merge = pd.merge(covid19.reset_index(), countries, on=\"geo_id\").set_index(\"date\")\n",
    "print(covid_merge.head())"
   ]
  },
  {
   "cell_type": "markdown",
   "id": "1f90d413",
   "metadata": {},
   "source": [
    "Note: **covid19** data frame has an index on the `date` column, so it needs .reset_index()). After the merge, the index can be set back to the `date` column."
   ]
  },
  {
   "cell_type": "markdown",
   "id": "cc56265b",
   "metadata": {},
   "source": [
    "### Calculating Fatality Ratio"
   ]
  },
  {
   "cell_type": "markdown",
   "id": "9595d1fb",
   "metadata": {},
   "source": [
    "Fatality ratio can be calculated by dividing between the `deaths` and `confirmed_cases` columns."
   ]
  },
  {
   "cell_type": "code",
   "execution_count": 8,
   "id": "98dfb02d",
   "metadata": {},
   "outputs": [
    {
     "name": "stdout",
     "output_type": "stream",
     "text": [
      "            daily_confirmed_cases  daily_deaths  confirmed_cases  deaths  \\\n",
      "date                                                                       \n",
      "2019-12-31                      0             0                0       0   \n",
      "2020-01-01                      0             0                0       0   \n",
      "2020-01-02                      0             0                0       0   \n",
      "2020-01-03                      0             0                0       0   \n",
      "2020-01-04                      0             0                0       0   \n",
      "\n",
      "           geo_id country_name  fatality_ratio  \n",
      "date                                            \n",
      "2019-12-31     IN        India             NaN  \n",
      "2020-01-01     IN        India             NaN  \n",
      "2020-01-02     IN        India             NaN  \n",
      "2020-01-03     IN        India             NaN  \n",
      "2020-01-04     IN        India             NaN  \n"
     ]
    }
   ],
   "source": [
    "covid_merge[\"fatality_ratio\"] = covid_merge[\"deaths\"]/covid_merge[\"confirmed_cases\"]\n",
    "print(covid_merge.head())"
   ]
  },
  {
   "cell_type": "markdown",
   "id": "bb160d29",
   "metadata": {},
   "source": [
    "### Countries with the Highest Fatality Ratio"
   ]
  },
  {
   "cell_type": "code",
   "execution_count": 9,
   "id": "6c6180a3",
   "metadata": {},
   "outputs": [
    {
     "name": "stdout",
     "output_type": "stream",
     "text": [
      "           geo_id country_name  fatality_ratio\n",
      "date                                          \n",
      "2020-03-15     SD        Sudan             1.0\n",
      "2020-02-20     IR         Iran             1.0\n",
      "2020-03-16     GT    Guatemala             1.0\n",
      "2020-03-13     GY       Guyana             1.0\n",
      "2020-03-18     SD        Sudan             1.0\n",
      "2020-03-17     SD        Sudan             1.0\n",
      "2020-03-16     SD        Sudan             1.0\n",
      "2020-02-03     PH  Philippines             0.5\n",
      "2020-02-05     PH  Philippines             0.5\n",
      "2020-02-04     PH  Philippines             0.5\n",
      "2020-03-28     NI    Nicaragua             0.5\n",
      "2020-02-02     PH  Philippines             0.5\n",
      "2020-03-24     ZW     Zimbabwe             0.5\n",
      "2020-03-24     GM       Gambia             0.5\n",
      "2020-03-19     SD        Sudan             0.5\n",
      "2020-03-20     SD        Sudan             0.5\n",
      "2020-03-21     SD        Sudan             0.5\n",
      "2020-03-22     SD        Sudan             0.5\n",
      "2020-03-23     SD        Sudan             0.5\n",
      "2020-03-24     SD        Sudan             0.5\n"
     ]
    }
   ],
   "source": [
    "top_20_fatality_rate = covid_merge.sort_values(by='fatality_ratio', ascending=False).head(20)\n",
    "print(top_20_fatality_rate[[\"geo_id\",\"country_name\",\"fatality_ratio\"]])"
   ]
  },
  {
   "cell_type": "markdown",
   "id": "7321eb37",
   "metadata": {},
   "source": [
    "### The Highest Fatality Ratio in August 2020"
   ]
  },
  {
   "cell_type": "code",
   "execution_count": 10,
   "id": "5a314656",
   "metadata": {},
   "outputs": [
    {
     "name": "stdout",
     "output_type": "stream",
     "text": [
      "Countries with the Highest Fatality Ratio in August 2020:\n",
      " country_name\n",
      "Yemen                     0.286473\n",
      "Italy                     0.138619\n",
      "France                    0.137979\n",
      "United_Kingdom            0.130228\n",
      "Belgium                   0.125079\n",
      "Hungary                   0.122820\n",
      "Netherlands               0.099309\n",
      "Mexico                    0.099092\n",
      "Jersey                    0.088677\n",
      "Spain                     0.079746\n",
      "Chad                      0.078870\n",
      "Montserrat                0.076923\n",
      "Canada                    0.073963\n",
      "Sweden                    0.071475\n",
      "Isle_of_Man               0.071429\n",
      "British_Virgin_Islands    0.066239\n",
      "Ireland                   0.065030\n",
      "Sudan                     0.064250\n",
      "Liberia                   0.063944\n",
      "Ecuador                   0.061031\n",
      "Name: fatality_ratio, dtype: float64\n"
     ]
    }
   ],
   "source": [
    "# Number of cases in august\n",
    "covid_merge_august = covid_merge.loc[\"2020-08\"].groupby(\"country_name\").sum()\n",
    "# Calculating fatality ratio in august\n",
    "covid_merge_august[\"fatality_ratio\"] = covid_merge_august[\"deaths\"]/covid_merge_august[\"confirmed_cases\"]\n",
    "# Countries with the highest fatality ratio in august\n",
    "top_20_fatality_rate_on_august = covid_merge_august.sort_values(by=\"fatality_ratio\", ascending=False).head(20)\n",
    "print(\"Countries with the Highest Fatality Ratio in August 2020:\\n\",top_20_fatality_rate_on_august[\"fatality_ratio\"])"
   ]
  },
  {
   "cell_type": "markdown",
   "id": "fbaabafb",
   "metadata": {},
   "source": [
    "### Visualization of the Country with the Highest Fatality Ratio in August 2020"
   ]
  },
  {
   "cell_type": "code",
   "execution_count": 11,
   "id": "e49d566e",
   "metadata": {},
   "outputs": [],
   "source": [
    "# Import libraries\n",
    "import matplotlib.pyplot as plt\n",
    "import seaborn as sns"
   ]
  },
  {
   "cell_type": "code",
   "execution_count": 12,
   "id": "5786913a",
   "metadata": {},
   "outputs": [
    {
     "data": {
      "image/png": "[encoded data removed]",
      "text/plain": [
       "<Figure size 576x576 with 1 Axes>"
      ]
     },
     "metadata": {
      "needs_background": "light"
     },
     "output_type": "display_data"
    }
   ],
   "source": [
    "plt.figure(figsize=(8,8))\n",
    "top_20_fatality_rate_on_august[\"fatality_ratio\"].sort_values().plot(kind=\"barh\", color=\"steelblue\")\n",
    "plt.title(\"Top 20 Highest Fatality Rate Countries\", fontsize=18, color=\"k\")\n",
    "plt.xlabel(\"Fatality Rate\", fontsize=14)\n",
    "plt.ylabel(\"Country Name\", fontsize=14)\n",
    "plt.grid(axis=\"x\")\n",
    "plt.tight_layout()\n",
    "plt.show()"
   ]
  },
  {
   "cell_type": "markdown",
   "id": "42e6d239",
   "metadata": {},
   "source": [
    "It can be seen that Yemen has the largest fatality ratio compared to other countries in August 2020."
   ]
  },
  {
   "cell_type": "markdown",
   "id": "fe95f51f",
   "metadata": {},
   "source": [
    "### COVID-19 Case in ASEAN "
   ]
  },
  {
   "cell_type": "code",
   "execution_count": 13,
   "id": "6a83dc8f",
   "metadata": {},
   "outputs": [
    {
     "name": "stdout",
     "output_type": "stream",
     "text": [
      "Check unique value in column 'country_name': ['Malaysia' 'Vietnam' 'Thailand' 'Singapore' 'Indonesia']\n",
      "            daily_confirmed_cases  daily_deaths  confirmed_cases  deaths  \\\n",
      "date                                                                       \n",
      "2019-12-31                      0             0                0       0   \n",
      "2019-12-31                      0             0                0       0   \n",
      "2019-12-31                      0             0                0       0   \n",
      "2019-12-31                      0             0                0       0   \n",
      "2019-12-31                      0             0                0       0   \n",
      "\n",
      "           geo_id country_name  fatality_ratio  \n",
      "date                                            \n",
      "2019-12-31     MY     Malaysia             NaN  \n",
      "2019-12-31     VN      Vietnam             NaN  \n",
      "2019-12-31     TH     Thailand             NaN  \n",
      "2019-12-31     SG    Singapore             NaN  \n",
      "2019-12-31     ID    Indonesia             NaN  \n"
     ]
    }
   ],
   "source": [
    "asean_country_id = [\"ID\", \"MY\", \"SG\", \"TH\", \"VN\"]\n",
    "filter_list = [(covid_merge[\"geo_id\"]==country_id).to_numpy() for country_id in asean_country_id]\n",
    "filter_array = np.column_stack(filter_list).sum(axis=1, dtype=\"bool\")\n",
    "covid_merge_asean = covid_merge[filter_array].sort_index()\n",
    "\n",
    "print(\"Check unique value in column 'country_name':\", covid_merge_asean[\"country_name\"].unique())\n",
    "print(covid_merge_asean.head())"
   ]
  },
  {
   "cell_type": "markdown",
   "id": "a0d6a191",
   "metadata": {},
   "source": [
    "### When was the First Case of COVID-19 Popped Up in ASEAN?"
   ]
  },
  {
   "cell_type": "code",
   "execution_count": 14,
   "id": "66b9fff5",
   "metadata": {},
   "outputs": [
    {
     "name": "stdout",
     "output_type": "stream",
     "text": [
      "The first case popped up in ASEAN countries:\n",
      "            confirmed_cases geo_id country_name\n",
      "date                                           \n",
      "2020-01-24                2     VN      Vietnam\n"
     ]
    }
   ],
   "source": [
    "print(\"The first case popped up in ASEAN countries:\")\n",
    "for country_id in asean_country_id:\n",
    "    asean_country = covid_merge_asean[covid_merge_asean[\"geo_id\"]==country_id]\n",
    "    first_case = asean_country[asean_country[\"confirmed_cases\"]>0][[\"confirmed_cases\",\"geo_id\",\"country_name\"]]\n",
    "print(first_case.head(1))"
   ]
  },
  {
   "cell_type": "markdown",
   "id": "762b60a5",
   "metadata": {},
   "source": [
    "### Covid-19 cases in March 2020"
   ]
  },
  {
   "cell_type": "code",
   "execution_count": 15,
   "id": "16e18dec",
   "metadata": {},
   "outputs": [
    {
     "name": "stdout",
     "output_type": "stream",
     "text": [
      "            daily_confirmed_cases  daily_deaths  confirmed_cases  deaths  \\\n",
      "date                                                                       \n",
      "2020-03-01                      0             1               42       1   \n",
      "2020-03-01                      4             0              102       0   \n",
      "2020-03-01                      0             0               16       0   \n",
      "2020-03-01                      0             0                0       0   \n",
      "2020-03-01                      0             0               25       0   \n",
      "\n",
      "           geo_id country_name  fatality_ratio  \n",
      "date                                            \n",
      "2020-03-01     TH     Thailand         0.02381  \n",
      "2020-03-01     SG    Singapore         0.00000  \n",
      "2020-03-01     VN      Vietnam         0.00000  \n",
      "2020-03-01     ID    Indonesia             NaN  \n",
      "2020-03-01     MY     Malaysia         0.00000  \n"
     ]
    }
   ],
   "source": [
    "covid_merge_asean_march_onward = covid_merge_asean[covid_merge_asean.index>=\"2020-03-01\"]\n",
    "print(covid_merge_asean_march_onward.head())"
   ]
  },
  {
   "cell_type": "markdown",
   "id": "f43ac308",
   "metadata": {},
   "source": [
    "### Visualization of COVID-19 Cases in ASEAN"
   ]
  },
  {
   "cell_type": "code",
   "execution_count": 16,
   "id": "56cf3e9f",
   "metadata": {},
   "outputs": [
    {
     "data": {
      "image/png": "[encoded data removed]",
      "text/plain": [
       "<Figure size 1152x576 with 1 Axes>"
      ]
     },
     "metadata": {
      "needs_background": "light"
     },
     "output_type": "display_data"
    }
   ],
   "source": [
    "plt.figure(figsize=(16,8))\n",
    "sns.lineplot(data=covid_merge_asean_march_onward,\n",
    "x=covid_merge_asean_march_onward.index,\n",
    "y=\"confirmed_cases\",\n",
    "hue=\"country_name\",\n",
    "linewidth=2)\n",
    "plt.xlabel('Record Date', fontsize=14)\n",
    "plt.ylabel('Total Cases', fontsize=14)\n",
    "plt.title('Comparison of COVID19 Cases in 5 ASEAN Countries', color=\"k\", fontsize=18)\n",
    "plt.grid()\n",
    "plt.tight_layout()\n",
    "plt.show()"
   ]
  },
  {
   "cell_type": "markdown",
   "id": "6db09a55",
   "metadata": {},
   "source": [
    "It can be seen that Indonesia has experienced a large increase in Covid-19 cases compared to other ASEAN countries. It is also seen that the country that has the lowest increase in the number of Covid-19 cases are Vietnam and Thailand."
   ]
  }
 ],
 "metadata": {
  "kernelspec": {
   "display_name": "Python 3",
   "language": "python",
   "name": "python3"
  },
  "language_info": {
   "codemirror_mode": {
    "name": "ipython",
    "version": 3
   },
   "file_extension": ".py",
   "mimetype": "text/x-python",
   "name": "python",
   "nbconvert_exporter": "python",
   "pygments_lexer": "ipython3",
   "version": "3.8.8"
  }
 },
 "nbformat": 4,
 "nbformat_minor": 5
}
